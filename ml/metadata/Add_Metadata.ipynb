{
  "nbformat": 4,
  "nbformat_minor": 0,
  "metadata": {
    "colab": {
      "name": "scratchpad",
      "provenance": [],
      "include_colab_link": true
    },
    "kernelspec": {
      "display_name": "Python 3",
      "name": "python3"
    }
  },
  "cells": [
    {
      "cell_type": "markdown",
      "metadata": {
        "id": "view-in-github",
        "colab_type": "text"
      },
      "source": [
        "<a href=\"https://colab.research.google.com/github/margaretmz/CartoonGAN-e2e-tflite-tutorial/blob/master/ml/metadata/Add_Metadata.ipynb\" target=\"_parent\"><img src=\"https://colab.research.google.com/assets/colab-badge.svg\" alt=\"Open In Colab\"/></a>"
      ]
    },
    {
      "cell_type": "markdown",
      "metadata": {
        "id": "laCUI2hzapKv",
        "colab_type": "text"
      },
      "source": [
        "Reference: https://github.com/margaretmz/selfie2anime-with-tflite/blob/master/ml/add-meta-data-Colab/Add%20metadata%20to%20selfie2anime.ipynb. "
      ]
    },
    {
      "cell_type": "code",
      "metadata": {
        "colab_type": "code",
        "id": "lIYdn1woOS1n",
        "colab": {
          "base_uri": "https://localhost:8080/",
          "height": 292
        },
        "outputId": "edde1546-a832-4fd7-de9a-2d99459a2060"
      },
      "source": [
        "!pip install tflite-support"
      ],
      "execution_count": 1,
      "outputs": [
        {
          "output_type": "stream",
          "text": [
            "Collecting tflite-support\n",
            "\u001b[?25l  Downloading https://files.pythonhosted.org/packages/29/97/7af9b18583d9bb01cdfcd0ab446062ef97720ebf941e33f7b156861ed179/tflite-support-0.1.0a1.tar.gz (390kB)\n",
            "\r\u001b[K     |▉                               | 10kB 17.4MB/s eta 0:00:01\r\u001b[K     |█▊                              | 20kB 1.7MB/s eta 0:00:01\r\u001b[K     |██▌                             | 30kB 2.2MB/s eta 0:00:01\r\u001b[K     |███▍                            | 40kB 2.5MB/s eta 0:00:01\r\u001b[K     |████▏                           | 51kB 2.0MB/s eta 0:00:01\r\u001b[K     |█████                           | 61kB 2.3MB/s eta 0:00:01\r\u001b[K     |█████▉                          | 71kB 2.5MB/s eta 0:00:01\r\u001b[K     |██████▊                         | 81kB 2.7MB/s eta 0:00:01\r\u001b[K     |███████▋                        | 92kB 2.9MB/s eta 0:00:01\r\u001b[K     |████████▍                       | 102kB 2.8MB/s eta 0:00:01\r\u001b[K     |█████████▎                      | 112kB 2.8MB/s eta 0:00:01\r\u001b[K     |██████████                      | 122kB 2.8MB/s eta 0:00:01\r\u001b[K     |███████████                     | 133kB 2.8MB/s eta 0:00:01\r\u001b[K     |███████████▊                    | 143kB 2.8MB/s eta 0:00:01\r\u001b[K     |████████████▋                   | 153kB 2.8MB/s eta 0:00:01\r\u001b[K     |█████████████▍                  | 163kB 2.8MB/s eta 0:00:01\r\u001b[K     |██████████████▎                 | 174kB 2.8MB/s eta 0:00:01\r\u001b[K     |███████████████▏                | 184kB 2.8MB/s eta 0:00:01\r\u001b[K     |████████████████                | 194kB 2.8MB/s eta 0:00:01\r\u001b[K     |████████████████▉               | 204kB 2.8MB/s eta 0:00:01\r\u001b[K     |█████████████████▋              | 215kB 2.8MB/s eta 0:00:01\r\u001b[K     |██████████████████▌             | 225kB 2.8MB/s eta 0:00:01\r\u001b[K     |███████████████████▎            | 235kB 2.8MB/s eta 0:00:01\r\u001b[K     |████████████████████▏           | 245kB 2.8MB/s eta 0:00:01\r\u001b[K     |█████████████████████           | 256kB 2.8MB/s eta 0:00:01\r\u001b[K     |█████████████████████▉          | 266kB 2.8MB/s eta 0:00:01\r\u001b[K     |██████████████████████▊         | 276kB 2.8MB/s eta 0:00:01\r\u001b[K     |███████████████████████▌        | 286kB 2.8MB/s eta 0:00:01\r\u001b[K     |████████████████████████▍       | 296kB 2.8MB/s eta 0:00:01\r\u001b[K     |█████████████████████████▏      | 307kB 2.8MB/s eta 0:00:01\r\u001b[K     |██████████████████████████      | 317kB 2.8MB/s eta 0:00:01\r\u001b[K     |██████████████████████████▉     | 327kB 2.8MB/s eta 0:00:01\r\u001b[K     |███████████████████████████▊    | 337kB 2.8MB/s eta 0:00:01\r\u001b[K     |████████████████████████████▌   | 348kB 2.8MB/s eta 0:00:01\r\u001b[K     |█████████████████████████████▍  | 358kB 2.8MB/s eta 0:00:01\r\u001b[K     |██████████████████████████████▎ | 368kB 2.8MB/s eta 0:00:01\r\u001b[K     |███████████████████████████████ | 378kB 2.8MB/s eta 0:00:01\r\u001b[K     |████████████████████████████████| 389kB 2.8MB/s eta 0:00:01\r\u001b[K     |████████████████████████████████| 399kB 2.8MB/s \n",
            "\u001b[?25hCollecting pybind11>=2.4\n",
            "  Using cached https://files.pythonhosted.org/packages/89/e3/d576f6f02bc75bacbc3d42494e8f1d063c95617d86648dba243c2cb3963e/pybind11-2.5.0-py2.py3-none-any.whl\n",
            "Requirement already satisfied: absl-py>=0.7.0 in /usr/local/lib/python3.6/dist-packages (from tflite-support) (0.9.0)\n",
            "Requirement already satisfied: numpy in /usr/local/lib/python3.6/dist-packages (from tflite-support) (1.18.5)\n",
            "Requirement already satisfied: six in /usr/local/lib/python3.6/dist-packages (from absl-py>=0.7.0->tflite-support) (1.15.0)\n",
            "Building wheels for collected packages: tflite-support\n",
            "  Building wheel for tflite-support (setup.py) ... \u001b[?25l\u001b[?25hdone\n",
            "  Created wheel for tflite-support: filename=tflite_support-0.1.0a1-cp36-cp36m-linux_x86_64.whl size=3944850 sha256=9f2e1920990866f66a84ca517c9c0d805874a1ee9a9e549a309fa53ed541eccf\n",
            "  Stored in directory: /root/.cache/pip/wheels/5f/65/21/4fa08c598c3e79a1a5260646eb37204d4859fc3da0bfeb8011\n",
            "Successfully built tflite-support\n",
            "Installing collected packages: pybind11, tflite-support\n",
            "Successfully installed pybind11-2.5.0 tflite-support-0.1.0a1\n"
          ],
          "name": "stdout"
        }
      ]
    },
    {
      "cell_type": "code",
      "metadata": {
        "id": "hSBlosV-Wim7",
        "colab_type": "code",
        "colab": {}
      },
      "source": [
        "import os\n",
        "import tensorflow as tf\n",
        "from absl import flags"
      ],
      "execution_count": 2,
      "outputs": []
    },
    {
      "cell_type": "code",
      "metadata": {
        "id": "mayO_BGeWrT1",
        "colab_type": "code",
        "colab": {}
      },
      "source": [
        "from tflite_support import flatbuffers\n",
        "from tflite_support import metadata as _metadata\n",
        "from tflite_support import metadata_schema_py_generated as _metadata_fb"
      ],
      "execution_count": 3,
      "outputs": []
    },
    {
      "cell_type": "code",
      "metadata": {
        "id": "v_czMsARW1SW",
        "colab_type": "code",
        "colab": {}
      },
      "source": [
        "!mkdir model_without_metadata\n",
        "!mkdir model_with_metadata"
      ],
      "execution_count": 4,
      "outputs": []
    },
    {
      "cell_type": "code",
      "metadata": {
        "id": "8_Qa9lo4W6zV",
        "colab_type": "code",
        "colab": {
          "base_uri": "https://localhost:8080/",
          "height": 765
        },
        "outputId": "94d20c3d-146a-4112-ab75-6a9f3aff0070"
      },
      "source": [
        "!wget https://storage.googleapis.com/cartoon_gan/whitebox_cartoon_gan_dr.tflite\n",
        "!wget https://storage.googleapis.com/cartoon_gan/whitebox_cartoon_gan_fp16.tflite\n",
        "!wget https://storage.googleapis.com/cartoon_gan/whitebox_cartoon_gan_int8.tflite\n",
        "!wget https://storage.googleapis.com/cartoon_gan/whitebox_cartoon_gan_full_int8.tflite\n",
        "\n",
        "!mv *.tflite model_without_metadata/"
      ],
      "execution_count": 5,
      "outputs": [
        {
          "output_type": "stream",
          "text": [
            "--2020-07-28 04:45:48--  https://storage.googleapis.com/cartoon_gan/whitebox_cartoon_gan_dr.tflite\n",
            "Resolving storage.googleapis.com (storage.googleapis.com)... 108.177.125.128, 74.125.203.128, 74.125.204.128, ...\n",
            "Connecting to storage.googleapis.com (storage.googleapis.com)|108.177.125.128|:443... connected.\n",
            "HTTP request sent, awaiting response... 200 OK\n",
            "Length: 1524512 (1.5M) [application/octet-stream]\n",
            "Saving to: ‘whitebox_cartoon_gan_dr.tflite’\n",
            "\n",
            "\r          whitebox_   0%[                    ]       0  --.-KB/s               \rwhitebox_cartoon_ga 100%[===================>]   1.45M  --.-KB/s    in 0.009s  \n",
            "\n",
            "2020-07-28 04:45:49 (155 MB/s) - ‘whitebox_cartoon_gan_dr.tflite’ saved [1524512/1524512]\n",
            "\n",
            "--2020-07-28 04:45:53--  https://storage.googleapis.com/cartoon_gan/whitebox_cartoon_gan_fp16.tflite\n",
            "Resolving storage.googleapis.com (storage.googleapis.com)... 74.125.23.128, 74.125.203.128, 74.125.204.128, ...\n",
            "Connecting to storage.googleapis.com (storage.googleapis.com)|74.125.23.128|:443... connected.\n",
            "HTTP request sent, awaiting response... 200 OK\n",
            "Length: 3057696 (2.9M) [application/octet-stream]\n",
            "Saving to: ‘whitebox_cartoon_gan_fp16.tflite’\n",
            "\n",
            "whitebox_cartoon_ga 100%[===================>]   2.92M  --.-KB/s    in 0.03s   \n",
            "\n",
            "2020-07-28 04:45:53 (108 MB/s) - ‘whitebox_cartoon_gan_fp16.tflite’ saved [3057696/3057696]\n",
            "\n",
            "--2020-07-28 04:45:58--  https://storage.googleapis.com/cartoon_gan/whitebox_cartoon_gan_int8.tflite\n",
            "Resolving storage.googleapis.com (storage.googleapis.com)... 74.125.203.128, 64.233.189.128, 108.177.97.128, ...\n",
            "Connecting to storage.googleapis.com (storage.googleapis.com)|74.125.203.128|:443... connected.\n",
            "HTTP request sent, awaiting response... 200 OK\n",
            "Length: 1551584 (1.5M) [application/octet-stream]\n",
            "Saving to: ‘whitebox_cartoon_gan_int8.tflite’\n",
            "\n",
            "whitebox_cartoon_ga 100%[===================>]   1.48M  --.-KB/s    in 0.01s   \n",
            "\n",
            "2020-07-28 04:45:58 (105 MB/s) - ‘whitebox_cartoon_gan_int8.tflite’ saved [1551584/1551584]\n",
            "\n",
            "--2020-07-28 04:46:03--  https://storage.googleapis.com/cartoon_gan/whitebox_cartoon_gan_full_int8.tflite\n",
            "Resolving storage.googleapis.com (storage.googleapis.com)... 64.233.189.128, 108.177.97.128, 74.125.203.128, ...\n",
            "Connecting to storage.googleapis.com (storage.googleapis.com)|64.233.189.128|:443... connected.\n",
            "HTTP request sent, awaiting response... 200 OK\n",
            "Length: 1551584 (1.5M) [application/octet-stream]\n",
            "Saving to: ‘whitebox_cartoon_gan_full_int8.tflite’\n",
            "\n",
            "whitebox_cartoon_ga 100%[===================>]   1.48M  --.-KB/s    in 0.01s   \n",
            "\n",
            "2020-07-28 04:46:04 (104 MB/s) - ‘whitebox_cartoon_gan_full_int8.tflite’ saved [1551584/1551584]\n",
            "\n"
          ],
          "name": "stdout"
        }
      ]
    },
    {
      "cell_type": "code",
      "metadata": {
        "id": "InH13DM9cdqP",
        "colab_type": "code",
        "colab": {}
      },
      "source": [
        "# This is where we will export a new .tflite model file with metadata, and a .json file with metadata info\n",
        "EXPORT_DIR = \"model_with_metadata\""
      ],
      "execution_count": 6,
      "outputs": []
    },
    {
      "cell_type": "code",
      "metadata": {
        "id": "E4ta4ByLYST3",
        "colab_type": "code",
        "colab": {}
      },
      "source": [
        "class MetadataPopulatorForGANModel(object):\n",
        "  \"\"\"Populates the metadata for the CartoonGAN model.\"\"\"\n",
        "\n",
        "  def __init__(self, model_file):\n",
        "    self.model_file = model_file\n",
        "    self.metadata_buf = None\n",
        "\n",
        "  def populate(self):\n",
        "    \"\"\"Creates metadata and thesn populates it for a style transfer model.\"\"\"\n",
        "    self._create_metadata()\n",
        "    self._populate_metadata()\n",
        "  \n",
        "  def _create_metadata(self):\n",
        "    \"\"\"Creates the metadata for the CartoonGAN model.\"\"\"\n",
        "\n",
        "    # Creates model info.\n",
        "    model_meta = _metadata_fb.ModelMetadataT()\n",
        "    model_meta.name = \"CartoonGAN\" \n",
        "    model_meta.description = (\"Cartoonizes an image. Reference: https://bit.ly/cartoon-gan.\")\n",
        "    model_meta.version = \"v1\"\n",
        "    model_meta.author = \"TensorFlow\"\n",
        "    model_meta.license = (\"Apache License. Version 2.0 \"\n",
        "                          \"http://www.apache.org/licenses/LICENSE-2.0.\")\n",
        "\n",
        "    # Creates info for the input, normal image.\n",
        "    input_image_meta = _metadata_fb.TensorMetadataT()\n",
        "    input_image_meta.name = \"source_image\"\n",
        "    input_image_meta.description = (\n",
        "        \"The expected image can be of any shape but with three channels \"\n",
        "        \"(red, blue, and green) per pixel. Each value in the tensor is between\"\n",
        "        \" -1 and 1.\")\n",
        "    input_image_meta.content = _metadata_fb.ContentT()\n",
        "    input_image_meta.content.contentProperties = (\n",
        "        _metadata_fb.ImagePropertiesT())\n",
        "    input_image_meta.content.contentProperties.colorSpace = (\n",
        "        _metadata_fb.ColorSpaceType.RGB)\n",
        "    input_image_meta.content.contentPropertiesType = (\n",
        "        _metadata_fb.ContentProperties.ImageProperties)\n",
        "    input_image_normalization = _metadata_fb.ProcessUnitT()\n",
        "    input_image_normalization.optionsType = (\n",
        "        _metadata_fb.ProcessUnitOptions.NormalizationOptions)\n",
        "    input_image_normalization.options = _metadata_fb.NormalizationOptionsT()\n",
        "    input_image_normalization.options.mean = [127.5]\n",
        "    input_image_normalization.options.std = [127.5]\n",
        "    input_image_meta.processUnits = [input_image_normalization]\n",
        "    input_image_stats = _metadata_fb.StatsT()\n",
        "    input_image_stats.max = [1.0]\n",
        "    input_image_stats.min = [-1.0]\n",
        "    input_image_meta.stats = input_image_stats\n",
        "\n",
        "\n",
        "    # Creates output info, cartoonized image\n",
        "    output_image_meta = _metadata_fb.TensorMetadataT()\n",
        "    output_image_meta.name = \"cartoonized_image\"\n",
        "    output_image_meta.description = \"Image cartoonized.\"\n",
        "    output_image_meta.content = _metadata_fb.ContentT()\n",
        "    output_image_meta.content.contentProperties = _metadata_fb.ImagePropertiesT()\n",
        "    output_image_meta.content.contentProperties.colorSpace = (\n",
        "        _metadata_fb.ColorSpaceType.RGB)\n",
        "    output_image_meta.content.contentPropertiesType = (\n",
        "        _metadata_fb.ContentProperties.ImageProperties)\n",
        "    output_image_normalization = _metadata_fb.ProcessUnitT()\n",
        "    output_image_normalization.optionsType = (\n",
        "        _metadata_fb.ProcessUnitOptions.NormalizationOptions)\n",
        "    output_image_normalization.options = _metadata_fb.NormalizationOptionsT()\n",
        "    output_image_normalization.options.mean = [0.0]\n",
        "    output_image_normalization.options.std = [1.0]\n",
        "    output_image_meta.processUnits = [output_image_normalization]\n",
        "    output_image_stats = _metadata_fb.StatsT()\n",
        "    output_image_stats.max = [255.0]\n",
        "    output_image_stats.min = [0.0]\n",
        "    output_image_meta.stats = output_image_stats\n",
        "\n",
        "    # Creates subgraph info.\n",
        "    subgraph = _metadata_fb.SubGraphMetadataT()\n",
        "    subgraph.inputTensorMetadata = [input_image_meta] \n",
        "    subgraph.outputTensorMetadata = [output_image_meta] \n",
        "    model_meta.subgraphMetadata = [subgraph]\n",
        "\n",
        "    b = flatbuffers.Builder(0)\n",
        "    b.Finish(\n",
        "        model_meta.Pack(b),\n",
        "        _metadata.MetadataPopulator.METADATA_FILE_IDENTIFIER)\n",
        "    self.metadata_buf = b.Output()\n",
        "\n",
        "  def _populate_metadata(self):\n",
        "    \"\"\"Populates metadata to the model file.\"\"\"\n",
        "    populator = _metadata.MetadataPopulator.with_model_file(self.model_file)\n",
        "    populator.load_metadata_buffer(self.metadata_buf)\n",
        "    populator.populate()"
      ],
      "execution_count": 7,
      "outputs": []
    },
    {
      "cell_type": "code",
      "metadata": {
        "id": "vRlUqyFMcNyy",
        "colab_type": "code",
        "colab": {}
      },
      "source": [
        "def populate_metadata(model_file):\n",
        "  \"\"\"Populates the metadata using the populator specified.\n",
        "  Args:\n",
        "      model_file: valid path to the model file.\n",
        "      model_type: a type defined in StyleTransferModelType .\n",
        "  \"\"\"\n",
        "\n",
        "  # Populates metadata for the model.\n",
        "  model_file_basename = os.path.basename(model_file)\n",
        "  export_path = os.path.join(EXPORT_DIR, model_file_basename)\n",
        "  tf.io.gfile.copy(model_file, export_path, overwrite=True)\n",
        "\n",
        "  populator = MetadataPopulatorForGANModel(export_path) \n",
        "  populator.populate()\n",
        "\n",
        "  # Displays the metadata that was just populated into the tflite model.\n",
        "  displayer = _metadata.MetadataDisplayer.with_model_file(export_path)\n",
        "  export_json_file = os.path.join(\n",
        "      EXPORT_DIR,\n",
        "      os.path.splitext(model_file_basename)[0] + \".json\")\n",
        "  json_file = displayer.get_metadata_json()\n",
        "  with open(export_json_file, \"w\") as f:\n",
        "    f.write(json_file)\n",
        "  print(\"Finished populating metadata and associated file to the model:\")\n",
        "  print(export_path)\n",
        "  print(\"The metadata json file has been saved to:\")\n",
        "  print(os.path.join(EXPORT_DIR,\n",
        "                   os.path.splitext(model_file_basename)[0] + \".json\"))"
      ],
      "execution_count": 8,
      "outputs": []
    },
    {
      "cell_type": "code",
      "metadata": {
        "id": "YVSJFR4HcUuI",
        "colab_type": "code",
        "colab": {}
      },
      "source": [
        "#@title Specify directories (don't do this for fp16)\n",
        "tflite_model_path = \"whitebox_cartoon_gan_full_int8.tflite\" #@param {type:\"string\"}\n",
        "# The original .tflite file\n",
        "MODEL_FILE = \"/content/model_without_metadata/{}\".format(tflite_model_path)"
      ],
      "execution_count": 13,
      "outputs": []
    },
    {
      "cell_type": "code",
      "metadata": {
        "id": "t123hRt1chmQ",
        "colab_type": "code",
        "colab": {
          "base_uri": "https://localhost:8080/",
          "height": 85
        },
        "outputId": "464a5533-c278-452a-9227-1d77dfa9d9b4"
      },
      "source": [
        "populate_metadata(MODEL_FILE)"
      ],
      "execution_count": 14,
      "outputs": [
        {
          "output_type": "stream",
          "text": [
            "Finished populating metadata and associated file to the model:\n",
            "model_with_metadata/whitebox_cartoon_gan_full_int8.tflite\n",
            "The metadata json file has been saved to:\n",
            "model_with_metadata/whitebox_cartoon_gan_full_int8.json\n"
          ],
          "name": "stdout"
        }
      ]
    },
    {
      "cell_type": "markdown",
      "metadata": {
        "id": "K8YarWzv_ZiC",
        "colab_type": "text"
      },
      "source": [
        "For the float16 model the description will be slightly different. "
      ]
    },
    {
      "cell_type": "code",
      "metadata": {
        "id": "iq1AjgB9dMc1",
        "colab_type": "code",
        "colab": {}
      },
      "source": [
        "class MetadataPopulatorForGANModel(object):\n",
        "  \"\"\"Populates the metadata for the CartoonGAN model.\"\"\"\n",
        "\n",
        "  def __init__(self, model_file):\n",
        "    self.model_file = model_file\n",
        "    self.metadata_buf = None\n",
        "\n",
        "  def populate(self):\n",
        "    \"\"\"Creates metadata and thesn populates it for a style transfer model.\"\"\"\n",
        "    self._create_metadata()\n",
        "    self._populate_metadata()\n",
        "  \n",
        "  def _create_metadata(self):\n",
        "    \"\"\"Creates the metadata for the CartoonGAN model.\"\"\"\n",
        "\n",
        "    # Creates model info.\n",
        "    model_meta = _metadata_fb.ModelMetadataT()\n",
        "    model_meta.name = \"CartoonGAN\" \n",
        "    model_meta.description = (\"Cartoonizes an image. Reference: https://bit.ly/cartoon-gan.\")\n",
        "    model_meta.version = \"v1\"\n",
        "    model_meta.author = \"TensorFlow\"\n",
        "    model_meta.license = (\"Apache License. Version 2.0 \"\n",
        "                          \"http://www.apache.org/licenses/LICENSE-2.0.\")\n",
        "\n",
        "    # Creates info for the input, normal image.\n",
        "    input_image_meta = _metadata_fb.TensorMetadataT()\n",
        "    input_image_meta.name = \"source_image\"\n",
        "    input_image_meta.description = (\n",
        "        \"The expected image is 224 x 224, with three channels \"\n",
        "        \"(red, blue, and green) per pixel. Each value in the tensor is between\"\n",
        "        \" -1 and 1.\")\n",
        "    input_image_meta.content = _metadata_fb.ContentT()\n",
        "    input_image_meta.content.contentProperties = (\n",
        "        _metadata_fb.ImagePropertiesT())\n",
        "    input_image_meta.content.contentProperties.colorSpace = (\n",
        "        _metadata_fb.ColorSpaceType.RGB)\n",
        "    input_image_meta.content.contentPropertiesType = (\n",
        "        _metadata_fb.ContentProperties.ImageProperties)\n",
        "    input_image_normalization = _metadata_fb.ProcessUnitT()\n",
        "    input_image_normalization.optionsType = (\n",
        "        _metadata_fb.ProcessUnitOptions.NormalizationOptions)\n",
        "    input_image_normalization.options = _metadata_fb.NormalizationOptionsT()\n",
        "    input_image_normalization.options.mean = [127.5]\n",
        "    input_image_normalization.options.std = [127.5]\n",
        "    input_image_meta.processUnits = [input_image_normalization]\n",
        "    input_image_stats = _metadata_fb.StatsT()\n",
        "    input_image_stats.max = [1.0]\n",
        "    input_image_stats.min = [-1.0]\n",
        "    input_image_meta.stats = input_image_stats\n",
        "\n",
        "\n",
        "    # Creates output info, cartoonized image\n",
        "    output_image_meta = _metadata_fb.TensorMetadataT()\n",
        "    output_image_meta.name = \"cartoonized_image\"\n",
        "    output_image_meta.description = \"Image cartoonized.\"\n",
        "    output_image_meta.content = _metadata_fb.ContentT()\n",
        "    output_image_meta.content.contentProperties = _metadata_fb.ImagePropertiesT()\n",
        "    output_image_meta.content.contentProperties.colorSpace = (\n",
        "        _metadata_fb.ColorSpaceType.RGB)\n",
        "    output_image_meta.content.contentPropertiesType = (\n",
        "        _metadata_fb.ContentProperties.ImageProperties)\n",
        "    # output_image_normalization = _metadata_fb.ProcessUnitT()\n",
        "    # output_image_normalization.optionsType = (\n",
        "    #     _metadata_fb.ProcessUnitOptions.NormalizationOptions)\n",
        "    # output_image_normalization.options = _metadata_fb.NormalizationOptionsT()\n",
        "    # output_image_normalization.options.mean = [0.0]\n",
        "    # output_image_normalization.options.std = [0.003921568627]  # 1/255\n",
        "    # output_image_meta.processUnits = [output_image_normalization]\n",
        "    output_image_stats = _metadata_fb.StatsT()\n",
        "    output_image_stats.max = [255.0]\n",
        "    output_image_stats.min = [0.0]\n",
        "    output_image_meta.stats = output_image_stats\n",
        "\n",
        "    # Creates subgraph info.\n",
        "    subgraph = _metadata_fb.SubGraphMetadataT()\n",
        "    subgraph.inputTensorMetadata = [input_image_meta] \n",
        "    subgraph.outputTensorMetadata = [output_image_meta] \n",
        "    model_meta.subgraphMetadata = [subgraph]\n",
        "\n",
        "    b = flatbuffers.Builder(0)\n",
        "    b.Finish(\n",
        "        model_meta.Pack(b),\n",
        "        _metadata.MetadataPopulator.METADATA_FILE_IDENTIFIER)\n",
        "    self.metadata_buf = b.Output()\n",
        "\n",
        "  def _populate_metadata(self):\n",
        "    \"\"\"Populates metadata to the model file.\"\"\"\n",
        "    populator = _metadata.MetadataPopulator.with_model_file(self.model_file)\n",
        "    populator.load_metadata_buffer(self.metadata_buf)\n",
        "    populator.populate()"
      ],
      "execution_count": 15,
      "outputs": []
    },
    {
      "cell_type": "code",
      "metadata": {
        "id": "k0FVg1kkdN4P",
        "colab_type": "code",
        "colab": {}
      },
      "source": [
        "def populate_metadata(model_file):\n",
        "  \"\"\"Populates the metadata using the populator specified.\n",
        "  Args:\n",
        "      model_file: valid path to the model file.\n",
        "      model_type: a type defined in StyleTransferModelType .\n",
        "  \"\"\"\n",
        "\n",
        "  # Populates metadata for the model.\n",
        "  model_file_basename = os.path.basename(model_file)\n",
        "  export_path = os.path.join(EXPORT_DIR, model_file_basename)\n",
        "  tf.io.gfile.copy(model_file, export_path, overwrite=True)\n",
        "\n",
        "  populator = MetadataPopulatorForGANModel(export_path) \n",
        "  populator.populate()\n",
        "\n",
        "  # Displays the metadata that was just populated into the tflite model.\n",
        "  displayer = _metadata.MetadataDisplayer.with_model_file(export_path)\n",
        "  export_json_file = os.path.join(\n",
        "      EXPORT_DIR,\n",
        "      os.path.splitext(model_file_basename)[0] + \".json\")\n",
        "  json_file = displayer.get_metadata_json()\n",
        "  with open(export_json_file, \"w\") as f:\n",
        "    f.write(json_file)\n",
        "  print(\"Finished populating metadata and associated file to the model:\")\n",
        "  print(export_path)\n",
        "  print(\"The metadata json file has been saved to:\")\n",
        "  print(os.path.join(EXPORT_DIR,\n",
        "                   os.path.splitext(model_file_basename)[0] + \".json\"))"
      ],
      "execution_count": 16,
      "outputs": []
    },
    {
      "cell_type": "code",
      "metadata": {
        "id": "fhjdWaHOfHzG",
        "colab_type": "code",
        "colab": {
          "base_uri": "https://localhost:8080/",
          "height": 85
        },
        "outputId": "30bbf341-3c5a-459f-e69c-8a5a0991c720"
      },
      "source": [
        "populate_metadata('/content/model_without_metadata/whitebox_cartoon_gan_fp16.tflite')"
      ],
      "execution_count": 17,
      "outputs": [
        {
          "output_type": "stream",
          "text": [
            "Finished populating metadata and associated file to the model:\n",
            "model_with_metadata/whitebox_cartoon_gan_fp16.tflite\n",
            "The metadata json file has been saved to:\n",
            "model_with_metadata/whitebox_cartoon_gan_fp16.json\n"
          ],
          "name": "stdout"
        }
      ]
    },
    {
      "cell_type": "code",
      "metadata": {
        "id": "SClcLn9Pv702",
        "colab_type": "code",
        "colab": {}
      },
      "source": [
        "from google.colab import auth as google_auth\n",
        "google_auth.authenticate_user()"
      ],
      "execution_count": 18,
      "outputs": []
    },
    {
      "cell_type": "code",
      "metadata": {
        "id": "szJR7LmxwIHw",
        "colab_type": "code",
        "colab": {
          "base_uri": "https://localhost:8080/",
          "height": 187
        },
        "outputId": "62a7c804-ede9-4c52-8d5a-e81e793fca79"
      },
      "source": [
        "!gsutil -m cp -r model_with_metadata/* gs://cartoon_gan/model_with_metadata/"
      ],
      "execution_count": 19,
      "outputs": [
        {
          "output_type": "stream",
          "text": [
            "Copying file://model_with_metadata/whitebox_cartoon_gan_dr.json [Content-Type=application/json]...\n",
            "/ [0/8 files][    0.0 B/  7.3 MiB]   0% Done                                    \rCopying file://model_with_metadata/whitebox_cartoon_gan_full_int8.tflite [Content-Type=application/octet-stream]...\n",
            "/ [0/8 files][    0.0 B/  7.3 MiB]   0% Done                                    \rCopying file://model_with_metadata/whitebox_cartoon_gan_fp16.json [Content-Type=application/json]...\n",
            "/ [0/8 files][    0.0 B/  7.3 MiB]   0% Done                                    \rCopying file://model_with_metadata/whitebox_cartoon_gan_dr.tflite [Content-Type=application/octet-stream]...\n",
            "/ [0/8 files][    0.0 B/  7.3 MiB]   0% Done                                    \rCopying file://model_with_metadata/whitebox_cartoon_gan_fp16.tflite [Content-Type=application/octet-stream]...\n",
            "/ [0/8 files][    0.0 B/  7.3 MiB]   0% Done                                    \rCopying file://model_with_metadata/whitebox_cartoon_gan_full_int8.json [Content-Type=application/json]...\n",
            "/ [0/8 files][    0.0 B/  7.3 MiB]   0% Done                                    \rCopying file://model_with_metadata/whitebox_cartoon_gan_int8.json [Content-Type=application/json]...\n",
            "Copying file://model_with_metadata/whitebox_cartoon_gan_int8.tflite [Content-Type=application/octet-stream]...\n",
            "- [8/8 files][  7.3 MiB/  7.3 MiB] 100% Done                                    \n",
            "Operation completed over 8 objects/7.3 MiB.                                      \n"
          ],
          "name": "stdout"
        }
      ]
    }
  ]
}