{
  "nbformat": 4,
  "nbformat_minor": 0,
  "metadata": {
    "colab": {
      "name": "scratchpad",
      "provenance": [],
      "include_colab_link": true
    },
    "kernelspec": {
      "display_name": "Python 3",
      "name": "python3"
    }
  },
  "cells": [
    {
      "cell_type": "markdown",
      "metadata": {
        "id": "view-in-github",
        "colab_type": "text"
      },
      "source": [
        "<a href=\"https://colab.research.google.com/github/margaretmz/CartoonGAN-e2e-tflite-tutorial/blob/master/ml/metadata/Add_Metadata.ipynb\" target=\"_parent\"><img src=\"https://colab.research.google.com/assets/colab-badge.svg\" alt=\"Open In Colab\"/></a>"
      ]
    },
    {
      "cell_type": "markdown",
      "metadata": {
        "id": "laCUI2hzapKv",
        "colab_type": "text"
      },
      "source": [
        "Reference: https://github.com/margaretmz/selfie2anime-with-tflite/blob/master/ml/add-meta-data-Colab/Add%20metadata%20to%20selfie2anime.ipynb. \n",
        "\n",
        "TensorFlow Lite meatdata: https://www.tensorflow.org/lite/convert/metadata."
      ]
    },
    {
      "cell_type": "code",
      "metadata": {
        "colab_type": "code",
        "id": "lIYdn1woOS1n",
        "colab": {}
      },
      "source": [
        "!pip install tflite-support"
      ],
      "execution_count": null,
      "outputs": []
    },
    {
      "cell_type": "code",
      "metadata": {
        "id": "hSBlosV-Wim7",
        "colab_type": "code",
        "colab": {}
      },
      "source": [
        "import os\n",
        "import tensorflow as tf\n",
        "from absl import flags"
      ],
      "execution_count": 2,
      "outputs": []
    },
    {
      "cell_type": "code",
      "metadata": {
        "id": "mayO_BGeWrT1",
        "colab_type": "code",
        "colab": {}
      },
      "source": [
        "from tflite_support import flatbuffers\n",
        "from tflite_support import metadata as _metadata\n",
        "from tflite_support import metadata_schema_py_generated as _metadata_fb"
      ],
      "execution_count": 3,
      "outputs": []
    },
    {
      "cell_type": "code",
      "metadata": {
        "id": "v_czMsARW1SW",
        "colab_type": "code",
        "colab": {}
      },
      "source": [
        "!mkdir model_without_metadata\n",
        "!mkdir model_with_metadata"
      ],
      "execution_count": 4,
      "outputs": []
    },
    {
      "cell_type": "code",
      "metadata": {
        "id": "8_Qa9lo4W6zV",
        "colab_type": "code",
        "colab": {}
      },
      "source": [
        "!wget https://storage.googleapis.com/cartoon_gan/whitebox_cartoon_gan_dr.tflite\n",
        "!wget https://storage.googleapis.com/cartoon_gan/whitebox_cartoon_gan_fp16.tflite\n",
        "!wget https://storage.googleapis.com/cartoon_gan/whitebox_cartoon_gan_int8.tflite\n",
        "!wget https://storage.googleapis.com/cartoon_gan/whitebox_cartoon_gan_full_int8.tflite\n",
        "\n",
        "!mv *.tflite model_without_metadata/"
      ],
      "execution_count": null,
      "outputs": []
    },
    {
      "cell_type": "code",
      "metadata": {
        "id": "InH13DM9cdqP",
        "colab_type": "code",
        "colab": {}
      },
      "source": [
        "# This is where we will export a new .tflite model file with metadata, and a .json file with metadata info\n",
        "EXPORT_DIR = \"model_with_metadata\""
      ],
      "execution_count": 6,
      "outputs": []
    },
    {
      "cell_type": "code",
      "metadata": {
        "id": "E4ta4ByLYST3",
        "colab_type": "code",
        "colab": {}
      },
      "source": [
        "class MetadataPopulatorForGANModel(object):\n",
        "  \"\"\"Populates the metadata for the CartoonGAN model.\"\"\"\n",
        "\n",
        "  def __init__(self, model_file, model_type=\"other\"):\n",
        "    self.model_file = model_file\n",
        "    self.metadata_buf = None\n",
        "    self.model_type = model_type\n",
        "\n",
        "  def populate(self):\n",
        "    \"\"\"Creates metadata and then populates it for a style transfer model.\"\"\"\n",
        "    self._create_metadata()\n",
        "    self._populate_metadata()\n",
        "  \n",
        "  def _create_metadata(self):\n",
        "    \"\"\"Creates the metadata for the CartoonGAN model.\"\"\"\n",
        "\n",
        "    # Creates model info.\n",
        "    model_meta = _metadata_fb.ModelMetadataT()\n",
        "    model_meta.name = \"CartoonGAN\" \n",
        "    model_meta.description = (\"Cartoonizes an image. Reference: https://bit.ly/cartoon-gan.\")\n",
        "    model_meta.version = \"v1\"\n",
        "    model_meta.author = \"TensorFlow\"\n",
        "    model_meta.license = (\"Apache License. Version 2.0 \"\n",
        "                          \"http://www.apache.org/licenses/LICENSE-2.0.\")\n",
        "\n",
        "    # Creates info for the input, normal image.\n",
        "    input_image_meta = _metadata_fb.TensorMetadataT()\n",
        "    input_image_meta.name = \"source_image\"\n",
        "    if self.model_type==\"other\":\n",
        "        input_image_meta.description = (\n",
        "            \"The expected image can be of any shape but with three channels \"\n",
        "            \"(red, blue, and green) per pixel. Each value in the tensor is between\"\n",
        "            \" -1 and 1.\")\n",
        "    elif self.model_type==\"fp16\":\n",
        "        input_image_meta.description = (\n",
        "            \"The expected image is 224 x 224, with three channels \"\n",
        "            \"(red, blue, and green) per pixel. Each value in the tensor is between\"\n",
        "            \" -1 and 1.\")\n",
        "    input_image_meta.content = _metadata_fb.ContentT()\n",
        "    input_image_meta.content.contentProperties = (\n",
        "        _metadata_fb.ImagePropertiesT())\n",
        "    input_image_meta.content.contentProperties.colorSpace = (\n",
        "        _metadata_fb.ColorSpaceType.RGB)\n",
        "    input_image_meta.content.contentPropertiesType = (\n",
        "        _metadata_fb.ContentProperties.ImageProperties)\n",
        "    input_image_normalization = _metadata_fb.ProcessUnitT()\n",
        "    input_image_normalization.optionsType = (\n",
        "        _metadata_fb.ProcessUnitOptions.NormalizationOptions)\n",
        "    input_image_normalization.options = _metadata_fb.NormalizationOptionsT()\n",
        "    input_image_normalization.options.mean = [127.5]\n",
        "    input_image_normalization.options.std = [127.5]\n",
        "    input_image_meta.processUnits = [input_image_normalization]\n",
        "    input_image_stats = _metadata_fb.StatsT()\n",
        "    input_image_stats.max = [1.0]\n",
        "    input_image_stats.min = [-1.0]\n",
        "    input_image_meta.stats = input_image_stats\n",
        "\n",
        "\n",
        "    # Creates output info, cartoonized image\n",
        "    output_image_meta = _metadata_fb.TensorMetadataT()\n",
        "    output_image_meta.name = \"cartoonized_image\"\n",
        "    output_image_meta.description = \"Image cartoonized.\"\n",
        "    output_image_meta.content = _metadata_fb.ContentT()\n",
        "    output_image_meta.content.contentProperties = _metadata_fb.ImagePropertiesT()\n",
        "    output_image_meta.content.contentProperties.colorSpace = (\n",
        "        _metadata_fb.ColorSpaceType.RGB)\n",
        "    output_image_meta.content.contentPropertiesType = (\n",
        "        _metadata_fb.ContentProperties.ImageProperties)\n",
        "    output_image_normalization = _metadata_fb.ProcessUnitT()\n",
        "    output_image_normalization.optionsType = (\n",
        "        _metadata_fb.ProcessUnitOptions.NormalizationOptions)\n",
        "    output_image_normalization.options = _metadata_fb.NormalizationOptionsT()\n",
        "    output_image_normalization.options.mean = [0.0]\n",
        "    output_image_normalization.options.std = [1.0]\n",
        "    output_image_meta.processUnits = [output_image_normalization]\n",
        "    output_image_stats = _metadata_fb.StatsT()\n",
        "    output_image_stats.max = [255.0]\n",
        "    output_image_stats.min = [0.0]\n",
        "    output_image_meta.stats = output_image_stats\n",
        "\n",
        "    # Creates subgraph info.\n",
        "    subgraph = _metadata_fb.SubGraphMetadataT()\n",
        "    subgraph.inputTensorMetadata = [input_image_meta] \n",
        "    subgraph.outputTensorMetadata = [output_image_meta] \n",
        "    model_meta.subgraphMetadata = [subgraph]\n",
        "\n",
        "    b = flatbuffers.Builder(0)\n",
        "    b.Finish(\n",
        "        model_meta.Pack(b),\n",
        "        _metadata.MetadataPopulator.METADATA_FILE_IDENTIFIER)\n",
        "    self.metadata_buf = b.Output()\n",
        "\n",
        "  def _populate_metadata(self):\n",
        "    \"\"\"Populates metadata to the model file.\"\"\"\n",
        "    populator = _metadata.MetadataPopulator.with_model_file(self.model_file)\n",
        "    populator.load_metadata_buffer(self.metadata_buf)\n",
        "    populator.populate()"
      ],
      "execution_count": 11,
      "outputs": []
    },
    {
      "cell_type": "code",
      "metadata": {
        "id": "vRlUqyFMcNyy",
        "colab_type": "code",
        "colab": {}
      },
      "source": [
        "def populate_metadata(model_file, model_type=\"other\"):\n",
        "  \"\"\"Populates the metadata using the populator specified.\n",
        "  Args:\n",
        "      model_file: valid path to the model file.\n",
        "      model_type: a type defined in StyleTransferModelType .\n",
        "  \"\"\"\n",
        "\n",
        "  # Populates metadata for the model.\n",
        "  model_file_basename = os.path.basename(model_file)\n",
        "  export_path = os.path.join(EXPORT_DIR, model_file_basename)\n",
        "  tf.io.gfile.copy(model_file, export_path, overwrite=True)\n",
        "\n",
        "  populator = MetadataPopulatorForGANModel(export_path, model_type) \n",
        "  populator.populate()\n",
        "\n",
        "  # Displays the metadata that was just populated into the tflite model.\n",
        "  displayer = _metadata.MetadataDisplayer.with_model_file(export_path)\n",
        "  export_json_file = os.path.join(\n",
        "      EXPORT_DIR,\n",
        "      os.path.splitext(model_file_basename)[0] + \".json\")\n",
        "  json_file = displayer.get_metadata_json()\n",
        "  with open(export_json_file, \"w\") as f:\n",
        "    f.write(json_file)\n",
        "  print(\"Finished populating metadata and associated file to the model:\")\n",
        "  print(export_path)\n",
        "  print(\"The metadata json file has been saved to:\")\n",
        "  print(os.path.join(EXPORT_DIR,\n",
        "                   os.path.splitext(model_file_basename)[0] + \".json\"))"
      ],
      "execution_count": 12,
      "outputs": []
    },
    {
      "cell_type": "code",
      "metadata": {
        "id": "YVSJFR4HcUuI",
        "colab_type": "code",
        "colab": {
          "base_uri": "https://localhost:8080/",
          "height": 85
        },
        "outputId": "4cfedb21-45b6-4de5-8fc1-a4ce291cdf9e"
      },
      "source": [
        "quantization = \"other\" #@param [\"other\", \"fp16\"]\n",
        "tflite_model_path = \"whitebox_cartoon_gan_dr.tflite\" #@param [\"whitebox_cartoon_gan_full_int8.tflite\", \"whitebox_cartoon_gan_int8.tflite\", \"whitebox_cartoon_gan_dr.tflite\", \"whitebox_cartoon_gan_fp16.tflite\"]\n",
        "MODEL_FILE = \"/content/model_without_metadata/{}\".format(tflite_model_path)\n",
        "populate_metadata(MODEL_FILE, model_type=quantization)"
      ],
      "execution_count": 16,
      "outputs": [
        {
          "output_type": "stream",
          "text": [
            "Finished populating metadata and associated file to the model:\n",
            "model_with_metadata/whitebox_cartoon_gan_dr.tflite\n",
            "The metadata json file has been saved to:\n",
            "model_with_metadata/whitebox_cartoon_gan_dr.json\n"
          ],
          "name": "stdout"
        }
      ]
    },
    {
      "cell_type": "code",
      "metadata": {
        "id": "SClcLn9Pv702",
        "colab_type": "code",
        "colab": {}
      },
      "source": [
        "from google.colab import auth as google_auth\n",
        "google_auth.authenticate_user()"
      ],
      "execution_count": 17,
      "outputs": []
    },
    {
      "cell_type": "code",
      "metadata": {
        "id": "szJR7LmxwIHw",
        "colab_type": "code",
        "colab": {
          "base_uri": "https://localhost:8080/",
          "height": 187
        },
        "outputId": "3147e05b-3b59-411f-bfdf-04926a743198"
      },
      "source": [
        "!gsutil -m cp -r model_with_metadata/* gs://cartoon_gan/model_with_metadata/"
      ],
      "execution_count": 18,
      "outputs": [
        {
          "output_type": "stream",
          "text": [
            "Copying file://model_with_metadata/whitebox_cartoon_gan_dr.json [Content-Type=application/json]...\n",
            "/ [0/8 files][    0.0 B/  7.3 MiB]   0% Done                                    \rCopying file://model_with_metadata/whitebox_cartoon_gan_full_int8.tflite [Content-Type=application/octet-stream]...\n",
            "/ [0/8 files][    0.0 B/  7.3 MiB]   0% Done                                    \rCopying file://model_with_metadata/whitebox_cartoon_gan_dr.tflite [Content-Type=application/octet-stream]...\n",
            "/ [0/8 files][    0.0 B/  7.3 MiB]   0% Done                                    \rCopying file://model_with_metadata/whitebox_cartoon_gan_fp16.json [Content-Type=application/json]...\n",
            "/ [0/8 files][    0.0 B/  7.3 MiB]   0% Done                                    \rCopying file://model_with_metadata/whitebox_cartoon_gan_fp16.tflite [Content-Type=application/octet-stream]...\n",
            "/ [0/8 files][    0.0 B/  7.3 MiB]   0% Done                                    \rCopying file://model_with_metadata/whitebox_cartoon_gan_int8.json [Content-Type=application/json]...\n",
            "/ [0/8 files][    0.0 B/  7.3 MiB]   0% Done                                    \rCopying file://model_with_metadata/whitebox_cartoon_gan_int8.tflite [Content-Type=application/octet-stream]...\n",
            "Copying file://model_with_metadata/whitebox_cartoon_gan_full_int8.json [Content-Type=application/json]...\n",
            "- [8/8 files][  7.3 MiB/  7.3 MiB] 100% Done                                    \n",
            "Operation completed over 8 objects/7.3 MiB.                                      \n"
          ],
          "name": "stdout"
        }
      ]
    }
  ]
}